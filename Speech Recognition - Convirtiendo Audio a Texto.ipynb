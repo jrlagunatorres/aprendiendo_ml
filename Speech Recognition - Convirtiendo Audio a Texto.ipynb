{
 "cells": [
  {
   "cell_type": "code",
   "execution_count": 28,
   "metadata": {},
   "outputs": [
    {
     "data": {
      "text/plain": [
       "'3.8.1'"
      ]
     },
     "execution_count": 28,
     "metadata": {},
     "output_type": "execute_result"
    }
   ],
   "source": [
    "# Truzz Blogg - Youtube link: https://youtu.be/q-N6IcgCqCE\n",
    "# Speech recognition in Python ::: How to convert an Audio File to Text\n",
    "\n",
    "import speech_recognition as sr\n",
    "import time\n",
    "from os import path\n",
    "\n",
    "Audio='C:\\\\PyLib\\\\audio.wav'\n",
    "\n",
    "r = sr.Recognizer()\n",
    "sr.__version__"
   ]
  },
  {
   "cell_type": "code",
   "execution_count": 30,
   "metadata": {},
   "outputs": [
    {
     "name": "stdout",
     "output_type": "stream",
     "text": [
      "Leyendo el archivo de audio. Por favor, espere un momento ...\n",
      "una prueba de archivo para ver si Python funciona haciendo una extracción de datos de vídeo\n"
     ]
    }
   ],
   "source": [
    "with sr.AudioFile(Audio) as source:\n",
    "    # print(\"Say Something...\")\n",
    "    audio = r.listen(source)\n",
    "    \n",
    "    try:\n",
    "        print(\"Leyendo el archivo de audio. Por favor, espere un momento ...\")\n",
    "        text = r.recognize_google(audio, language='es-ES')\n",
    "        time.sleep(1)\n",
    "        print(text)\n",
    "    except:\n",
    "        print(\"Python dice: Lo siento! No logro entender!\")\n",
    " "
   ]
  },
  {
   "cell_type": "code",
   "execution_count": null,
   "metadata": {},
   "outputs": [],
   "source": []
  }
 ],
 "metadata": {
  "kernelspec": {
   "display_name": "Python 3",
   "language": "python",
   "name": "python3"
  },
  "language_info": {
   "codemirror_mode": {
    "name": "ipython",
    "version": 3
   },
   "file_extension": ".py",
   "mimetype": "text/x-python",
   "name": "python",
   "nbconvert_exporter": "python",
   "pygments_lexer": "ipython3",
   "version": "3.7.4"
  }
 },
 "nbformat": 4,
 "nbformat_minor": 4
}
